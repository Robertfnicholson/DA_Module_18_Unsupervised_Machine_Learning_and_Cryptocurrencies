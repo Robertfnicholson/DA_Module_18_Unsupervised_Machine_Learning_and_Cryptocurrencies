{
 "cells": [
  {
   "cell_type": "code",
   "execution_count": null,
   "metadata": {},
   "outputs": [],
   "source": [
    "import pandas as pd\n",
    "from sklearn.preprocessing import MinMaxScaler, LabelEncoder\n",
    "from sklearn.cluster import KMeans\n",
    "from matplotlib import pyplot as plt\n",
    "\n",
    "# Import PCA from sci-kit learn\n",
    "from sklearn.decomposition import PCA\n",
    "import hvplot.pandas"
   ]
  },
  {
   "cell_type": "code",
   "execution_count": null,
   "metadata": {},
   "outputs": [],
   "source": [
    "df = pd.read_csv('./Resources/marathon_results_2019.csv')\n",
    "df.head()"
   ]
  },
  {
   "cell_type": "code",
   "execution_count": null,
   "metadata": {},
   "outputs": [],
   "source": [
    "# Subset the dataframe to only the columns \"Age\", \"M/F\", split times (i.e. \"5K, 10K\", etc.), \"Pace\", and \"Official Time\". \n",
    "df = df[['Age', 'M/F', '5K', '10K', '15K', '20K', 'Half', '25K', '30K', '35K', '40K', 'Pace', 'Official Time']]\n",
    "df.head()"
   ]
  },
  {
   "cell_type": "code",
   "execution_count": null,
   "metadata": {},
   "outputs": [],
   "source": [
    "# Convert the split times, \"Pace\", and \"Official Time\" to timedeltas using apply() and pandas.to_timedelta()\n",
    "time_columns = ['5K', '10K', '15K', '20K', 'Half','25K', '30K', '35K', '40K', 'Pace', 'Official Time']\n",
    "df[time_columns] = df[time_columns].apply(pd.to_timedelta)\n",
    "df.head()"
   ]
  },
  {
   "cell_type": "code",
   "execution_count": null,
   "metadata": {},
   "outputs": [],
   "source": [
    "# Convert timedeltas to seconds by applying the lambda function lambda x: x.dt.total_seconds()\n",
    "df[time_columns] = df[time_columns].apply(lambda x: x.dt.total_seconds())\n",
    "df.head()"
   ]
  },
  {
   "cell_type": "code",
   "execution_count": null,
   "metadata": {},
   "outputs": [],
   "source": [
    "# Subset df to only rows where the split values are non-zero\n",
    "df = df[\n",
    "    (df['5K'] != 0) & \n",
    "    (df['10K'] != 0) & \n",
    "    (df['15K'] != 0) & \n",
    "    (df['20K'] != 0) & \n",
    "    (df['Half'] != 0) & \n",
    "    (df['25K'] != 0) & \n",
    "    (df['30K'] != 0) & \n",
    "    (df['35K'] != 0) & \n",
    "    (df['40K'] != 0)\n",
    "]\n",
    "\n",
    "# A more concise method\n",
    "#df[~(df == 0).any(axis=1)]\n",
    "\n",
    "df.head()"
   ]
  },
  {
   "cell_type": "code",
   "execution_count": null,
   "metadata": {},
   "outputs": [],
   "source": [
    "# Use LabelEncoder to convert 'M/F' into integer labels\n",
    "df['M/F'] = LabelEncoder().fit_transform(df['M/F'])\n",
    "\n",
    "# Equivalently, the encoder can be created and applied in two steps\n",
    "# encoder = LabelEncoder().fit(df['M/F'])\n",
    "# df['M/F'] = encoder.transform(df['M/F'])\n",
    "\n",
    "df.head()"
   ]
  },
  {
   "cell_type": "code",
   "execution_count": null,
   "metadata": {},
   "outputs": [],
   "source": [
    "# Convert 'Age' to a numeric value\n",
    "df['Age'] = pd.to_numeric(df['Age'])"
   ]
  },
  {
   "cell_type": "code",
   "execution_count": null,
   "metadata": {},
   "outputs": [],
   "source": [
    "df.dropna(inplace = True)"
   ]
  },
  {
   "cell_type": "code",
   "execution_count": null,
   "metadata": {},
   "outputs": [],
   "source": [
    "# 'Pace' should be perfectly correlated with 'Official Time', so we'll remove it from our X data (but keep it for analysis)\n",
    "# Plot a scatter plot of 'Pace' against 'Official Time'\n",
    "df.plot(kind='scatter', x='Pace', y='Official Time')"
   ]
  },
  {
   "cell_type": "code",
   "execution_count": null,
   "metadata": {},
   "outputs": [],
   "source": [
    "# Create a training set 'X' with every column except 'Pace'\n",
    "X = df.drop('Pace', axis=1)\n",
    "\n",
    "# Alternatively, select all the columns to keep\n",
    "#X = df[['Age', 'M/F','5K','10K','15K','20K','25K','30K','35K','40K','Half','Official Time']]"
   ]
  },
  {
   "cell_type": "code",
   "execution_count": null,
   "metadata": {},
   "outputs": [],
   "source": [
    "# Scale the dataset using MinMaxScaler()\n",
    "X_scaled = MinMaxScaler().fit_transform(X)\n",
    "X_scaled"
   ]
  },
  {
   "cell_type": "code",
   "execution_count": null,
   "metadata": {},
   "outputs": [],
   "source": [
    "sse = {}\n",
    "K = range(1,10)\n",
    "for k in K:\n",
    "    kmeanmodel = KMeans(n_clusters=k).fit(X_scaled)\n",
    "    sse[k]= kmeanmodel.inertia_\n",
    "    \n",
    "# Plot\n",
    "plt.plot(list(sse.keys()), list(sse.values()))\n",
    "plt.xlabel('k')\n",
    "plt.ylabel('SSE')\n",
    "plt.title('Elbow Method')\n",
    "plt.show()"
   ]
  },
  {
   "cell_type": "code",
   "execution_count": null,
   "metadata": {},
   "outputs": [],
   "source": [
    "# Create a KMeans model with 3 clusters\n",
    "model = KMeans(n_clusters=3, random_state=42).fit(X_scaled)"
   ]
  },
  {
   "cell_type": "code",
   "execution_count": null,
   "metadata": {},
   "outputs": [],
   "source": [
    "# Calculate predicted values.\n",
    "y_pred = model.predict(X_scaled)"
   ]
  },
  {
   "cell_type": "code",
   "execution_count": null,
   "metadata": {},
   "outputs": [],
   "source": [
    "# Add prediected values onto the original dataframe\n",
    "df_y = pd.DataFrame(y_pred, columns=['Cluster'])\n",
    "combined = df.join(df_y, how='inner')\n",
    "combined.head()"
   ]
  },
  {
   "cell_type": "code",
   "execution_count": null,
   "metadata": {},
   "outputs": [],
   "source": [
    "# Plot boxplots of the official time distributions by cluster\n",
    "combined.boxplot(['Official Time'], by=['Cluster'])"
   ]
  },
  {
   "cell_type": "code",
   "execution_count": null,
   "metadata": {},
   "outputs": [],
   "source": [
    "# Print out summary statistics of ages by M/F and Cluster\n",
    "combined.groupby(['M/F','Cluster']).describe()['Age']"
   ]
  },
  {
   "cell_type": "code",
   "execution_count": null,
   "metadata": {},
   "outputs": [],
   "source": [
    "# Create a function that takes in gender and age and assigns an age group based on the following break points for each gender:\n",
    "# * The lowest 1st quartile\n",
    "# * Each median\n",
    "# * The highest 3rd quartile\n",
    "def age_group(gender, age):\n",
    "    if gender == 0:\n",
    "        if age < 29:\n",
    "            return 0\n",
    "        elif age < 36:\n",
    "            return 1\n",
    "        elif age < 41:\n",
    "            return 2\n",
    "        elif age < 45:\n",
    "            return 3\n",
    "        elif age < 51:\n",
    "            return 4\n",
    "        else:\n",
    "            return 5\n",
    "    if gender == 1:\n",
    "        if age < 33:\n",
    "            return 0\n",
    "        elif age < 40:\n",
    "            return 1\n",
    "        elif age < 48:\n",
    "            return 2\n",
    "        elif age < 53:\n",
    "            return 3\n",
    "        elif age < 60:\n",
    "            return 4\n",
    "        else:\n",
    "            return 5"
   ]
  },
  {
   "cell_type": "code",
   "execution_count": null,
   "metadata": {},
   "outputs": [],
   "source": [
    "# Apply the custom age group to the original data frame and save it to the column 'Age Group'\n",
    "df['Age Group'] = df.apply(lambda row: age_group(row['M/F'], row['Age']), axis=1)\n",
    "df.head()"
   ]
  },
  {
   "cell_type": "markdown",
   "metadata": {},
   "source": [
    "### Part 3: PCA"
   ]
  },
  {
   "cell_type": "code",
   "execution_count": null,
   "metadata": {},
   "outputs": [],
   "source": [
    "# Create a new training set 'X' by dropping 'Pace' and 'Age' from df\n",
    "X = df.drop(['Age','Pace'], axis=1)"
   ]
  },
  {
   "cell_type": "code",
   "execution_count": null,
   "metadata": {},
   "outputs": [],
   "source": [
    "# Scale the dataset using MinMaxScaler()\n",
    "X_scaled = MinMaxScaler().fit_transform(X)\n",
    "X_scaled"
   ]
  },
  {
   "cell_type": "code",
   "execution_count": null,
   "metadata": {},
   "outputs": [],
   "source": [
    "# Reduce the number of components in X to 2 using PCA\n",
    "pca = PCA(n_components=2)\n",
    "pca.fit(X_scaled)\n",
    "print(pca.explained_variance_ratio_)\n",
    "\n",
    "X_pca = pca.transform(X_scaled)"
   ]
  },
  {
   "cell_type": "code",
   "execution_count": null,
   "metadata": {},
   "outputs": [],
   "source": [
    "df_pca = pd.DataFrame(X_pca, columns=['principal component 1','principal component 2'])"
   ]
  },
  {
   "cell_type": "code",
   "execution_count": null,
   "metadata": {},
   "outputs": [],
   "source": [
    "df_pca.hvplot.scatter(\n",
    "    x=\"principal component 1\",\n",
    "    y=\"principal component 2\"\n",
    ")"
   ]
  },
  {
   "cell_type": "code",
   "execution_count": null,
   "metadata": {},
   "outputs": [],
   "source": [
    "sse = {}\n",
    "K = range(1,10)\n",
    "for k in K:\n",
    "    kmeanmodel = KMeans(n_clusters=k).fit(X_pca)\n",
    "    sse[k]= kmeanmodel.inertia_\n",
    "    \n",
    "# Plot\n",
    "plt.plot(list(sse.keys()), list(sse.values()))\n",
    "plt.xlabel('k')\n",
    "plt.ylabel('SSE')\n",
    "plt.title('Elbow Method')\n",
    "plt.show()"
   ]
  },
  {
   "cell_type": "code",
   "execution_count": null,
   "metadata": {},
   "outputs": [],
   "source": [
    "# Create a KMeans model with 4 clusters\n",
    "model = KMeans(n_clusters=4, random_state=42).fit(X_pca)"
   ]
  },
  {
   "cell_type": "code",
   "execution_count": null,
   "metadata": {},
   "outputs": [],
   "source": [
    "# Calculate predicted values.\n",
    "y_pred = model.fit_predict(X_pca)"
   ]
  },
  {
   "cell_type": "code",
   "execution_count": null,
   "metadata": {},
   "outputs": [],
   "source": [
    "# Add predicted values to df_pca and replot the scatter plot of the PCA components, coloring by predicted cluster\n",
    "df_pca[\"cluster\"] = y_pred\n",
    "df_pca.hvplot.scatter(\n",
    "    x=\"principal component 1\",\n",
    "    y=\"principal component 2\",\n",
    "    by=\"cluster\"\n",
    ")"
   ]
  },
  {
   "cell_type": "code",
   "execution_count": null,
   "metadata": {},
   "outputs": [],
   "source": [
    "# Add prediected values onto the original dataframe\n",
    "df_y = pd.DataFrame(y_pred, columns=['Cluster'])\n",
    "combined = df.join(df_y, how='inner')\n",
    "combined.head()"
   ]
  },
  {
   "cell_type": "code",
   "execution_count": null,
   "metadata": {},
   "outputs": [],
   "source": [
    "# Show a boxplot of Pace by M/F and cluster\n",
    "combined.boxplot(['Pace'], by=['M/F','Cluster'])"
   ]
  },
  {
   "cell_type": "code",
   "execution_count": null,
   "metadata": {},
   "outputs": [],
   "source": [
    "# Display summary statistics on Pace grouped by M/F and cluster\n",
    "combined.groupby(['M/F','Cluster']).describe()['Pace']"
   ]
  },
  {
   "cell_type": "code",
   "execution_count": null,
   "metadata": {},
   "outputs": [],
   "source": []
  }
 ],
 "metadata": {
  "kernelspec": {
   "display_name": "Python 3 (ipykernel)",
   "language": "python",
   "name": "python3"
  },
  "language_info": {
   "codemirror_mode": {
    "name": "ipython",
    "version": 3
   },
   "file_extension": ".py",
   "mimetype": "text/x-python",
   "name": "python",
   "nbconvert_exporter": "python",
   "pygments_lexer": "ipython3",
   "version": "3.9.7"
  }
 },
 "nbformat": 4,
 "nbformat_minor": 2
}
